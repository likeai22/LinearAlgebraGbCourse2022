{
 "cells": [
  {
   "cell_type": "code",
   "execution_count": 1,
   "outputs": [],
   "source": [
    "import numpy as np\n",
    "import sympy as sp"
   ],
   "metadata": {
    "collapsed": false,
    "pycharm": {
     "name": "#%%\n"
    }
   }
  },
  {
   "cell_type": "markdown",
   "metadata": {
    "collapsed": true,
    "pycharm": {
     "name": "#%% md\n"
    }
   },
   "source": [
    "__1.__ Вычислить определитель:\n",
    "\n",
    "   a)\n",
    "\n",
    "$\\begin{vmatrix}\n",
    "sinx & -cosx\\\\\n",
    "cosx & sinx\n",
    "\\end{vmatrix};$\n",
    "\n",
    "   б)\n",
    "\n",
    "$\\begin{vmatrix}\n",
    "4 & 2 & 3\\\\\n",
    "0 & 5 & 1\\\\\n",
    "0 & 0 & 9\n",
    "\\end{vmatrix};$\n",
    "\n",
    "   в)\n",
    "\n",
    "$\\begin{vmatrix}\n",
    "1 & 2 & 3\\\\\n",
    "4 & 5 & 6\\\\\n",
    "7 & 8 & 9\n",
    "\\end{vmatrix}.$\n",
    "\n",
    "\n",
    "__Решение:__"
   ]
  },
  {
   "cell_type": "markdown",
   "source": [
    "   a)\n",
    "\n",
    "$\\begin{vmatrix}\n",
    "sinx & -cosx\\\\\n",
    "cosx & sinx\n",
    "\\end{vmatrix};$\n",
    "\n",
    "$\\sin ^2(x) - (-\\cos ^2(x)) = \\sin^{2}{\\left(x \\right)} + \\cos^{2}{\\left(x \\right)} = 1$"
   ],
   "metadata": {
    "collapsed": false
   }
  },
  {
   "cell_type": "code",
   "execution_count": 2,
   "outputs": [
    {
     "data": {
      "text/plain": "sin(x)**2 + cos(x)**2",
      "text/latex": "$\\displaystyle \\sin^{2}{\\left(x \\right)} + \\cos^{2}{\\left(x \\right)}$"
     },
     "execution_count": 2,
     "metadata": {},
     "output_type": "execute_result"
    }
   ],
   "source": [
    "x, y, z = sp.symbols(\"x,y,z\")\n",
    "\n",
    "M = sp.Matrix([[sp.sin(x), -sp.cos(x)], [sp.cos(x), sp.sin(x)]])\n",
    "\n",
    "M.det()"
   ],
   "metadata": {
    "collapsed": false,
    "pycharm": {
     "name": "#%%\n"
    }
   }
  },
  {
   "cell_type": "markdown",
   "source": [
    "   б)\n",
    "\n",
    "$\\begin{vmatrix}\n",
    "4 & 2 & 3\\\\\n",
    "0 & 5 & 1\\\\\n",
    "0 & 0 & 9\n",
    "\\end{vmatrix};$\n",
    "\n",
    "$4\\cdot 5\\cdot 9=180$"
   ],
   "metadata": {
    "collapsed": false
   }
  },
  {
   "cell_type": "code",
   "execution_count": 3,
   "outputs": [
    {
     "data": {
      "text/plain": "180.0"
     },
     "execution_count": 3,
     "metadata": {},
     "output_type": "execute_result"
    }
   ],
   "source": [
    "A = np.array([[4, 2, 3], [0, 5, 1], [0, 0, 9]])\n",
    "np.linalg.det(A)"
   ],
   "metadata": {
    "collapsed": false,
    "pycharm": {
     "name": "#%%\n"
    }
   }
  },
  {
   "cell_type": "markdown",
   "source": [
    "   в)\n",
    "\n",
    "$\\begin{vmatrix}\n",
    "1 & 2 & 3\\\\\n",
    "4 & 5 & 6\\\\\n",
    "7 & 8 & 9\n",
    "\\end{vmatrix}.$\n",
    "\n",
    "$\\Delta = 1 \\left|\n",
    "\\begin{array}{cc}\n",
    " 5 & 6 \\\\\n",
    " 8 & 9 \\\\\n",
    "\\end{array}\n",
    "\\right|\n",
    "-2 \\left|\n",
    "\\begin{array}{cc}\n",
    " 4 & 6 \\\\\n",
    " 7 & 9 \\\\\n",
    "\\end{array}\n",
    "\\right| +3 \\left|\n",
    "\\begin{array}{cc}\n",
    " 4 & 5 \\\\\n",
    " 7 & 8 \\\\\n",
    "\\end{array}\n",
    "\\right|$\n",
    "\n",
    "$\\begin{array}{c}\n",
    " 1 \\left|\n",
    "\\begin{array}{cc}\n",
    " 5 & 6 \\\\\n",
    " 8 & 9 \\\\\n",
    "\\end{array}\n",
    "\\right| =1 (5\\cdot 9-6\\cdot 8)=1 (-3)=\\fbox{$-3$}: \\\\\n",
    "  \\text{= }\\fbox{$-3$}+-2 \\left|\n",
    "\\begin{array}{cc}\n",
    " 4 & 6 \\\\\n",
    " 7 & 9 \\\\\n",
    "\\end{array}\n",
    "\\right| +3 \\left|\n",
    "\\begin{array}{cc}\n",
    " 4 & 5 \\\\\n",
    " 7 & 8 \\\\\n",
    "\\end{array}\n",
    "\\right|  \\\\\n",
    "\\end{array}$\n",
    "\n",
    "$\\begin{array}{c}\n",
    " -2 \\left|\n",
    "\\begin{array}{cc}\n",
    " 4 & 6 \\\\\n",
    " 7 & 9 \\\\\n",
    "\\end{array}\n",
    "\\right| =-2 (4\\cdot 9-6\\cdot 7)=-2 (-6)=\\fbox{$12$}: \\\\\n",
    "  \\text{= }-3+\\fbox{$12$}+3 \\left|\n",
    "\\begin{array}{cc}\n",
    " 4 & 5 \\\\\n",
    " 7 & 8 \\\\\n",
    "\\end{array}\n",
    "\\right|  \\\\\n",
    "\\end{array}$\n",
    "\n",
    "$\\begin{array}{c}\n",
    " 3 \\left|\n",
    "\\begin{array}{cc}\n",
    " 4 & 5 \\\\\n",
    " 7 & 8 \\\\\n",
    "\\end{array}\n",
    "\\right| =3 (4\\cdot 8-5\\cdot 7)=3 (-3)=\\fbox{$-9$}: \\\\\n",
    "  \\text{= }-3+12+\\fbox{$-9$} \\\\\n",
    "\\end{array}$\n",
    "\n",
    "$-3+12+\\fbox{$-9$} = 0$"
   ],
   "metadata": {
    "collapsed": false
   }
  },
  {
   "cell_type": "code",
   "execution_count": 4,
   "outputs": [
    {
     "name": "stdout",
     "output_type": "stream",
     "text": [
      "Определитель: 0.0\n"
     ]
    }
   ],
   "source": [
    "B = np.array([[1, 2, 3], [4, 5, 6], [7, 8, 9]])\n",
    "print(f\"Определитель: {np.linalg.det(B):.1f}\")"
   ],
   "metadata": {
    "collapsed": false,
    "pycharm": {
     "name": "#%%\n"
    }
   }
  },
  {
   "cell_type": "markdown",
   "source": [
    "__2.__ Определитель матрицы $A$ равен $4$. Найти:\n",
    "\n",
    "   а) $det(A^{2})$;\n",
    "\n",
    "   б) $det(A^{T})$;\n",
    "\n",
    "   в) $det(2A)$.\n",
    "\n",
    "__Решение:__\n",
    "\n",
    "   а) $det(A^{2}) = 16$;\n",
    "\n",
    "   б) $det(A^{T}) = 4$;\n",
    "\n",
    "   в) $det(2A) = 2^n \\cdot 4$. Где $n$ - порядок матрицы\n"
   ],
   "metadata": {
    "collapsed": false,
    "pycharm": {
     "name": "#%% md\n"
    }
   }
  },
  {
   "cell_type": "markdown",
   "source": [
    "__3.__  Доказать, что матрица вырожденная.\n",
    "\n",
    "$\\begin{pmatrix}\n",
    "-2 & 7 & -3\\\\\n",
    "4 & -14 & 6\\\\\n",
    "-3 & 7 & 13\n",
    "\\end{pmatrix}$\n",
    "\n",
    "__Решение:__\n",
    "\n",
    "$\\Delta = -2\\cdot \\left|\n",
    "\\begin{array}{cc}\n",
    " -14 & 6 \\\\\n",
    " 7 & 13 \\\\\n",
    "\\end{array}\n",
    "\\right| +-7\\cdot \\left|\n",
    "\\begin{array}{cc}\n",
    " 4 & 6 \\\\\n",
    " -3 & 13 \\\\\n",
    "\\end{array}\n",
    "\\right| +-3\\cdot \\left|\n",
    "\\begin{array}{cc}\n",
    " 4 & -14 \\\\\n",
    " -3 & 7 \\\\\n",
    "\\end{array}\n",
    "\\right| = -2 \\cdot (-182 -42) -7 \\cdot (52 + 18) -3 \\cdot (28 - 42) = 448 - 490 + 42 = 0$\n",
    "\n",
    "Матрица вырожденная, тк ее определитель равен нулю."
   ],
   "metadata": {
    "collapsed": false,
    "pycharm": {
     "name": "#%% md\n"
    }
   }
  },
  {
   "cell_type": "code",
   "execution_count": 5,
   "outputs": [
    {
     "name": "stdout",
     "output_type": "stream",
     "text": [
      "Определитель: 0.0\n"
     ]
    }
   ],
   "source": [
    "C = np.array([[-2, 7, -3], [4, -14, 6], [-3, 7, 13]])\n",
    "print(f\"Определитель: {np.linalg.det(C):.1f}\")"
   ],
   "metadata": {
    "collapsed": false,
    "pycharm": {
     "name": "#%%\n"
    }
   }
  },
  {
   "cell_type": "markdown",
   "source": [
    "__4.__ Найти ранг матрицы:\n",
    "\n",
    "   а) $\\begin{pmatrix}\n",
    "1 & 2 & 3\\\\\n",
    "1 & 1 & 1\\\\\n",
    "2 & 3 & 4\n",
    "\\end{pmatrix};$\n",
    "\n",
    "   б) $\\begin{pmatrix}\n",
    "0 & 0 & 2 & 1\\\\\n",
    "0 & 0 & 2 & 2\\\\\n",
    "0 & 0 & 4 & 3\\\\\n",
    "2 & 3 & 5 & 6\n",
    "\\end{pmatrix}.$\n",
    "\n",
    "__Решение:__\n",
    "\n",
    "а) $\\begin{pmatrix}\n",
    "1 & 2 & 3\\\\\n",
    "1 & 1 & 1\\\\\n",
    "2 & 3 & 4\n",
    "\\end{pmatrix};$\n",
    "\n",
    "Вычтем строку 1 из строки 2\n",
    "\n",
    "$\\begin{array}{c}\n",
    " \\left(\n",
    "\\begin{array}{ccc}\n",
    " 1 & 2 & 3 \\\\\n",
    " 0 & -1 & -2 \\\\\n",
    " 2 & 3 & 4 \\\\\n",
    "\\end{array}\n",
    "\\right) \\\\\n",
    "\\end{array}$\n",
    "\n",
    "Вычтем 2 * строку 1 из строки 3\n",
    "\n",
    "$\\left(\n",
    "\\begin{array}{ccc}\n",
    " 1 & 2 & 3 \\\\\n",
    " 0 & -1 & -2 \\\\\n",
    " 0 & -1 & -2 \\\\\n",
    "\\end{array}\n",
    "\\right)$\n",
    "\n",
    "Вычтем строку 2 из строки 3\n",
    "\n",
    "$\\left(\n",
    "\\begin{array}{ccc}\n",
    " 1 & 2 & 3 \\\\\n",
    " 0 & -1 & -2 \\\\\n",
    " 0 & 0 & 0 \\\\\n",
    "\\end{array}\n",
    "\\right)$\n",
    "\n",
    "Таким образом, ранг матрицы равен 2"
   ],
   "metadata": {
    "collapsed": false
   }
  },
  {
   "cell_type": "code",
   "execution_count": 6,
   "outputs": [
    {
     "name": "stdout",
     "output_type": "stream",
     "text": [
      "Ранг матрицы равен 2\n"
     ]
    }
   ],
   "source": [
    "M_41 = np.array([[1, 2, 3], [1, 1, 1], [2, 3, 4]])\n",
    "print(f\"Ранг матрицы равен {np.linalg.matrix_rank(M_41)}\")"
   ],
   "metadata": {
    "collapsed": false,
    "pycharm": {
     "name": "#%%\n"
    }
   }
  },
  {
   "cell_type": "markdown",
   "source": [
    "б) $\\begin{pmatrix}\n",
    "0 & 0 & 2 & 1\\\\\n",
    "0 & 0 & 2 & 2\\\\\n",
    "0 & 0 & 4 & 3\\\\\n",
    "2 & 3 & 5 & 6\n",
    "\\end{pmatrix}.$\n",
    "\n",
    "\n",
    "Променяем местами строку 1 и строку 4\n",
    "\n",
    "$\\left(\n",
    "\\begin{array}{cccc}\n",
    " 2 & 3 & 5 & 6 \\\\\n",
    " 0 & 0 & 2 & 2 \\\\\n",
    " 0 & 0 & 4 & 3 \\\\\n",
    " 0 & 0 & 2 & 1 \\\\\n",
    "\\end{array}\n",
    "\\right)$\n",
    "\n",
    "Вычтем 2 * строку 2 из строки 3\n",
    "\n",
    "$\\left(\n",
    "\\begin{array}{cccc}\n",
    " 2 & 3 & 5 & 6 \\\\\n",
    " 0 & 0 & 2 & 2 \\\\\n",
    " 0 & 0 & 0 & -1 \\\\\n",
    " 0 & 0 & 2 & 1 \\\\\n",
    "\\end{array}\n",
    "\\right)$\n",
    "\n",
    "Вычтем строку 2 из строки 4\n",
    "\n",
    "$\\left(\n",
    "\\begin{array}{cccc}\n",
    " 2 & 3 & 5 & 6 \\\\\n",
    " 0 & 0 & 2 & 2 \\\\\n",
    " 0 & 0 & 0 & -1 \\\\\n",
    " 0 & 0 & 0 & -1 \\\\\n",
    "\\end{array}\n",
    "\\right)$\n",
    "\n",
    "Вычтем строку 3 из строки 4\n",
    "\n",
    "$\\left(\n",
    "\\begin{array}{cccc}\n",
    " 2 & 3 & 5 & 6 \\\\\n",
    " 0 & 0 & 2 & 2 \\\\\n",
    " 0 & 0 & 0 & -1 \\\\\n",
    " 0 & 0 & 0 & 0 \\\\\n",
    "\\end{array}\n",
    "\\right)$\n",
    "\n",
    "Таким образом, ранг матрицы равен 3"
   ],
   "metadata": {
    "collapsed": false
   }
  },
  {
   "cell_type": "code",
   "execution_count": 7,
   "outputs": [
    {
     "name": "stdout",
     "output_type": "stream",
     "text": [
      "Ранг матрицы равен 3\n"
     ]
    }
   ],
   "source": [
    "M_42 = np.array([[0, 0, 2, 1], [0, 0, 2, 2], [0, 0, 4, 3], [2, 3, 5, 6]])\n",
    "\n",
    "print(f\"Ранг матрицы равен {np.linalg.matrix_rank(M_42)}\")"
   ],
   "metadata": {
    "collapsed": false,
    "pycharm": {
     "name": "#%%\n"
    }
   }
  }
 ],
 "metadata": {
  "kernelspec": {
   "display_name": "Python 3",
   "language": "python",
   "name": "python3"
  },
  "language_info": {
   "codemirror_mode": {
    "name": "ipython",
    "version": 2
   },
   "file_extension": ".py",
   "mimetype": "text/x-python",
   "name": "python",
   "nbconvert_exporter": "python",
   "pygments_lexer": "ipython2",
   "version": "2.7.6"
  }
 },
 "nbformat": 4,
 "nbformat_minor": 0
}