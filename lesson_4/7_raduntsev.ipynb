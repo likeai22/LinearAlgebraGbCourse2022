{
 "cells": [
  {
   "cell_type": "code",
   "execution_count": 1,
   "outputs": [],
   "source": [
    "import numpy as np\n",
    "import sympy as sp\n",
    "from scipy import linalg"
   ],
   "metadata": {
    "collapsed": false,
    "pycharm": {
     "name": "#%%\n"
    }
   }
  },
  {
   "cell_type": "markdown",
   "source": [
    "## Практическое задание"
   ],
   "metadata": {
    "collapsed": false,
    "pycharm": {
     "name": "#%% md\n"
    }
   }
  },
  {
   "cell_type": "markdown",
   "source": [
    "__1.__ Решить систему уравнений методом Крамера:\n",
    "\n",
    "   а) $\\begin{cases}\n",
    "x_{1}-2x_{2}=1 \\\\\n",
    "3x_{1}-4x_{2}=7\n",
    "\\end{cases}$"
   ],
   "metadata": {
    "collapsed": false,
    "pycharm": {
     "name": "#%% md\n"
    }
   }
  },
  {
   "cell_type": "code",
   "execution_count": 2,
   "outputs": [],
   "source": [
    "a_1a = np.matrix(\"1 -2; 3 -4\")\n",
    "b_1a = np.matrix(\"1; 7\")"
   ],
   "metadata": {
    "collapsed": false,
    "pycharm": {
     "name": "#%%\n"
    }
   }
  },
  {
   "cell_type": "code",
   "execution_count": 3,
   "outputs": [
    {
     "name": "stdout",
     "output_type": "stream",
     "text": [
      "Решение системы:\n",
      " x1 = 5.0\n",
      " x2 = 2.0\n"
     ]
    }
   ],
   "source": [
    "det = np.linalg.det(a_1a)\n",
    "if det == 0:\n",
    "    print(\"Определитель матрицы равен нулю, система имеет бесконечно много решений\")\n",
    "else:\n",
    "    s_0 = a_1a[:, 0]\n",
    "    s_1 = a_1a[:, 1]\n",
    "\n",
    "    a_1 = np.column_stack((b_1a, s_1))\n",
    "    det_1 = np.linalg.det(a_1)\n",
    "    a_2 = np.column_stack((s_0, b_1a))\n",
    "    det_2 = np.linalg.det(a_2)\n",
    "\n",
    "    x_1 = det_1 / det\n",
    "    x_2 = det_2 / det\n",
    "\n",
    "    print(f\"Решение системы:\\n x1 = {x_1:.1f}\\n x2 = {x_2:.1f}\")"
   ],
   "metadata": {
    "collapsed": false,
    "pycharm": {
     "name": "#%%\n"
    }
   }
  },
  {
   "cell_type": "markdown",
   "source": [
    "   б) $\\begin{cases}\n",
    "2x_{1}-x_{2}+5x_{3}=10 \\\\\n",
    "x_{1}+x_{2}-3x_{3}=-2 \\\\\n",
    "2x_{1}+4x_{2}+x_{3}=1\n",
    "\\end{cases}$"
   ],
   "metadata": {
    "collapsed": false,
    "pycharm": {
     "name": "#%% md\n"
    }
   }
  },
  {
   "cell_type": "code",
   "execution_count": 4,
   "outputs": [],
   "source": [
    "a_1b = np.matrix(\"2 -1 5; 1 1 -3; 2 4 1\")\n",
    "b_1b = np.matrix(\"10; -2; 1\")"
   ],
   "metadata": {
    "collapsed": false,
    "pycharm": {
     "name": "#%%\n"
    }
   }
  },
  {
   "cell_type": "code",
   "execution_count": 5,
   "outputs": [
    {
     "name": "stdout",
     "output_type": "stream",
     "text": [
      "Решение системы: x1 = 2.0, x2 = -1.0, x3 = 1.0\n"
     ]
    }
   ],
   "source": [
    "det = np.linalg.det(a_1b)\n",
    "if det == 0:\n",
    "    print(\"Определитель матрицы равен нулю, система имеет бесконечно много решений\")\n",
    "else:\n",
    "    s_0 = a_1b[:, 0]\n",
    "    s_1 = a_1b[:, 1]\n",
    "    s_2 = a_1b[:, 2]\n",
    "\n",
    "    a_1 = np.column_stack((b_1b, s_1, s_2))\n",
    "    det_1 = np.linalg.det(a_1)\n",
    "    a_2 = np.column_stack((s_0, b_1b, s_2))\n",
    "    det_2 = np.linalg.det(a_2)\n",
    "    a_3 = np.column_stack((s_0, s_1, b_1b))\n",
    "    det_3 = np.linalg.det(a_3)\n",
    "\n",
    "    x_1 = det_1 / det\n",
    "    x_2 = det_2 / det\n",
    "    x_3 = det_3 / det\n",
    "\n",
    "    print(f\"Решение системы: x1 = {x_1:.1f}, x2 = {x_2:.1f}, x3 = {x_3:.1f}\")"
   ],
   "metadata": {
    "collapsed": false,
    "pycharm": {
     "name": "#%%\n"
    }
   }
  },
  {
   "cell_type": "markdown",
   "source": [
    "__2.__ Найти $L$-матрицу $LU$-разложения для матрицы коэффициентов:\n",
    "\n",
    "   а)$\\begin{pmatrix}\n",
    "1 & 2 & 4 \\\\ \n",
    "2 & 9 & 12 \\\\ \n",
    "3 & 26 & 30\n",
    "\\end{pmatrix}$\n"
   ],
   "metadata": {
    "collapsed": false,
    "pycharm": {
     "name": "#%% md\n"
    }
   }
  },
  {
   "cell_type": "markdown",
   "source": [
    "Матрица коэффициентов $A$ будет иметь вид\n",
    "\n",
    "$\\begin{pmatrix}\n",
    "1 & 2 & 4 \\\\\n",
    "2 & 9 & 12 \\\\\n",
    "3 & 26 & 30\n",
    "\\end{pmatrix}$\n",
    "\n",
    "Начнем прямой ход метода Гаусса. Для этого домножим первую строку на $2$ и вычтем ее из второго уравнения. При этом запишем в матрицу $L$ на место элемента $l_{21}$ значение $2$. Затем нам нужно вычесть из третьего уравнения первое, домноженное на $3$. Значит, в матрицу $L$ запишем $l_{31}=3$.\n",
    "\n",
    "Матрица коэффициентов будет иметь вид\n",
    "\n",
    "$\\begin{pmatrix}\n",
    "1 & 2 & 4 \\\\\n",
    "0 & 5 & 4 \\\\\n",
    "0 & 20 & 18\n",
    "\\end{pmatrix},$\n",
    "\n",
    "а матрица $L$ —\n",
    "\n",
    "$\\begin{pmatrix}\n",
    "1 & 0 & 0 \\\\\n",
    "2 & 1 & 0 \\\\\n",
    "3 & l_{32} & 1\n",
    "\\end{pmatrix}.$\n",
    "\n",
    "Далее умножим вторую строку на $4$ и вычтем ее из третьей. При этом в матрицу $L$ на место $l_{32}$ запишем $4$.\n",
    "\n",
    "В итоге получим\n",
    "\n",
    "$U=\\begin{pmatrix}\n",
    "1 & 2 & 4 \\\\\n",
    "0 & 5 & 4 \\\\\n",
    "0 & 0 & 2\n",
    "\\end{pmatrix},$\n",
    "\n",
    "$L=\\begin{pmatrix}\n",
    "1 & 0 & 0 \\\\\n",
    "2 & 1 & 0 \\\\\n",
    "3 & 4 & 1\n",
    "\\end{pmatrix}.$"
   ],
   "metadata": {
    "collapsed": false,
    "pycharm": {
     "name": "#%% md\n"
    }
   }
  },
  {
   "cell_type": "code",
   "execution_count": 6,
   "outputs": [
    {
     "data": {
      "text/plain": "Matrix([\n[1,  2,  4],\n[2,  9, 12],\n[3, 26, 30]])",
      "text/latex": "$\\displaystyle \\left[\\begin{matrix}1 & 2 & 4\\\\2 & 9 & 12\\\\3 & 26 & 30\\end{matrix}\\right]$"
     },
     "execution_count": 6,
     "metadata": {},
     "output_type": "execute_result"
    }
   ],
   "source": [
    "U = sp.Matrix([[1, 2, 4], [0, 5, 4], [0, 0, 2]])\n",
    "L = sp.Matrix([[1, 0, 0], [2, 1, 0], [3, 4, 1]])\n",
    "L @ U"
   ],
   "metadata": {
    "collapsed": false,
    "pycharm": {
     "name": "#%%\n"
    }
   }
  },
  {
   "cell_type": "markdown",
   "source": [
    "Решим в scipy"
   ],
   "metadata": {
    "collapsed": false,
    "pycharm": {
     "name": "#%% md\n"
    }
   }
  },
  {
   "cell_type": "code",
   "execution_count": 7,
   "outputs": [
    {
     "name": "stdout",
     "output_type": "stream",
     "text": [
      "P =\n",
      " [[0. 0. 1.]\n",
      " [0. 1. 0.]\n",
      " [1. 0. 0.]]\n",
      "L =\n",
      " [[1.         0.         0.        ]\n",
      " [0.66666667 1.         0.        ]\n",
      " [0.33333333 0.8        1.        ]]\n",
      "U =\n",
      " [[ 3.         26.         30.        ]\n",
      " [ 0.         -8.33333333 -8.        ]\n",
      " [ 0.          0.          0.4       ]]\n"
     ]
    }
   ],
   "source": [
    "A_2a = sp.Matrix([[1, 2, 4], [2, 9, 12], [3, 26, 30]])\n",
    "P, L, U = linalg.lu(A_2a)\n",
    "for t, x in zip([P, L, U], [\"P =\\n\", \"L =\\n\", \"U =\\n\"]):\n",
    "    print(x, t)"
   ],
   "metadata": {
    "collapsed": false,
    "pycharm": {
     "name": "#%%\n"
    }
   }
  },
  {
   "cell_type": "markdown",
   "source": [
    "б)$\\begin{pmatrix}\n",
    "1 & 1 & 2 & 4\\\\ \n",
    "2 & 5 & 8 & 9\\\\ \n",
    "3 & 18 & 29 & 18\\\\\n",
    "4 & 22 & 53 & 33\n",
    "\\end{pmatrix}$"
   ],
   "metadata": {
    "collapsed": false,
    "pycharm": {
     "name": "#%% md\n"
    }
   }
  },
  {
   "cell_type": "markdown",
   "source": [
    "Матрица коэффициентов\n",
    "$\\begin{pmatrix}\n",
    "1 & 1 & 2 & 4\\\\\n",
    "2 & 5 & 8 & 9\\\\\n",
    "3 & 18 & 29 & 18\\\\\n",
    "4 & 22 & 53 & 33\n",
    "\\end{pmatrix}$\n",
    "\n",
    "Начнем прямой ход метода Гаусса. Для этого домножим $1$ строку на $2$ и вычтем ее из $2$ уравнения. При этом запишем в матрицу $L$ на место элемента $l_{21}$ значение $2$.\n",
    "\n",
    "Домножим $1$ строку на $3$ и вычтем ее из $3$ уравнения. При этом запишем в матрицу $L$ на место элемента $l_{31}$ значение $3$.\n",
    "\n",
    "Домножим $1$ строку на $4$ и вычтем ее из $4$ уравнения. При этом запишем в матрицу $L$ на место элемента $l_{41}$ значение $4$.\n",
    "\n",
    "Домножим $2$ строку на $5$ и вычтем ее из $3$ уравнения. При этом запишем в матрицу $L$ на место элемента $l_{32}$ значение $5$.\n",
    "\n",
    "Домножим $2$ строку на $6$ и вычтем ее из $4$ уравнения. При этом запишем в матрицу $L$ на место элемента $l_{42}$ значение $6$.\n",
    "\n",
    "Домножим $3$ строку на $7$ и вычтем ее из $4$ уравнения. При этом запишем в матрицу $L$ на место элемента $l_{43}$ значение $7$.\n",
    "\n",
    "В итоге получим\n",
    "\n",
    "$U=\\left(\\begin{matrix}\n",
    "1 & 1 & 2 & 4 \\\\\n",
    "0 & 3 & 4 & 1 \\\\\n",
    "0 & 0 & 3 & 1 \\\\\n",
    "0 & 0 & 0 & 4\n",
    "\\end{matrix}\\right),$\n",
    "\n",
    "$L=\\left(\\begin{matrix}\n",
    "1 & 0 & 0 & 0 \\\\\n",
    "2 & 1 & 0 & 0 \\\\\n",
    "3 & 5 & 1 & 0 \\\\\n",
    "4 & 6 & 7 & 1\n",
    "\\end{matrix}\\right)$"
   ],
   "metadata": {
    "collapsed": false,
    "pycharm": {
     "name": "#%% md\n"
    }
   }
  },
  {
   "cell_type": "code",
   "execution_count": 8,
   "outputs": [
    {
     "data": {
      "text/plain": "Matrix([\n[1,  1,  2,  4],\n[2,  5,  8,  9],\n[3, 18, 29, 18],\n[4, 22, 53, 33]])",
      "text/latex": "$\\displaystyle \\left[\\begin{matrix}1 & 1 & 2 & 4\\\\2 & 5 & 8 & 9\\\\3 & 18 & 29 & 18\\\\4 & 22 & 53 & 33\\end{matrix}\\right]$"
     },
     "execution_count": 8,
     "metadata": {},
     "output_type": "execute_result"
    }
   ],
   "source": [
    "U = sp.Matrix([[1, 1, 2, 4], [0, 3, 4, 1], [0, 0, 3, 1], [0, 0, 0, 4]])\n",
    "L = sp.Matrix([[1, 0, 0, 0], [2, 1, 0, 0], [3, 5, 1, 0], [4, 6, 7, 1]])\n",
    "L @ U"
   ],
   "metadata": {
    "collapsed": false,
    "pycharm": {
     "name": "#%%\n"
    }
   }
  },
  {
   "cell_type": "markdown",
   "source": [
    "Решим в scipy"
   ],
   "metadata": {
    "collapsed": false,
    "pycharm": {
     "name": "#%% md\n"
    }
   }
  },
  {
   "cell_type": "code",
   "execution_count": 9,
   "outputs": [
    {
     "name": "stdout",
     "output_type": "stream",
     "text": [
      "P =\n",
      " [[0. 0. 0. 1.]\n",
      " [0. 1. 0. 0.]\n",
      " [0. 0. 1. 0.]\n",
      " [1. 0. 0. 0.]]\n",
      "L =\n",
      " [[ 1.          0.          0.          0.        ]\n",
      " [ 0.5         1.          0.          0.        ]\n",
      " [ 0.75       -0.25        1.          0.        ]\n",
      " [ 0.25        0.75       -0.17073171  1.        ]]\n",
      "U =\n",
      " [[  4.          22.          53.          33.        ]\n",
      " [  0.          -6.         -18.5         -7.5       ]\n",
      " [  0.           0.         -15.375       -8.625     ]\n",
      " [  0.           0.           0.          -0.09756098]]\n"
     ]
    }
   ],
   "source": [
    "A_2b = sp.Matrix([[1, 1, 2, 4], [2, 5, 8, 9], [3, 18, 29, 18], [4, 22, 53, 33]])\n",
    "P, L, U = linalg.lu(A_2b)\n",
    "for t, x in zip([P, L, U], [\"P =\\n\", \"L =\\n\", \"U =\\n\"]):\n",
    "    print(x, t)"
   ],
   "metadata": {
    "collapsed": false,
    "pycharm": {
     "name": "#%%\n"
    }
   }
  },
  {
   "cell_type": "markdown",
   "source": [
    "__3.__ Решить систему линейных уравнений методом $LU$-разложения\n",
    "\n",
    "$\\begin{cases}\n",
    "2x_{1}+x_{2}+3x_{3}=1 \\\\\n",
    "11x_{1}+7x_{2}+5x_{3}=-6 \\\\\n",
    "9x_{1}+8x_{2}+4x_{3}=-5\n",
    "\\end{cases}$"
   ],
   "metadata": {
    "collapsed": false,
    "pycharm": {
     "name": "#%% md\n"
    }
   }
  },
  {
   "cell_type": "markdown",
   "source": [
    "Матрица коэффициентов $A$ будет иметь вид\n",
    "\n",
    "$\\begin{pmatrix}\n",
    "2 & 1 & 3 \\\\\n",
    "11 & 7 & 5 \\\\\n",
    "9 & 8 & 4\n",
    "\\end{pmatrix}.$\n",
    "\n",
    "Начнем прямой ход метода Гаусса. Для этого домножим $1$ строку на $11/2$ и вычтем ее из $2$ уравнения. При этом запишем в матрицу $L$ на место элемента $l_{21}$ значение $11/2$.\n",
    "\n",
    "Начнем прямой ход метода Гаусса. Для этого домножим $1$ строку на $9/2$ и вычтем ее из $3$ уравнения. При этом запишем в матрицу $L$ на место элемента $l_{31}$ значение $9/2$.\n",
    "\n",
    "Начнем прямой ход метода Гаусса. Для этого домножим $2$ строку на $7/3$ и вычтем ее из $3$ уравнения. При этом запишем в матрицу $L$ на место элемента $l_{32}$ значение $7/3$.\n",
    "\n",
    "В итоге получим\n",
    "\n",
    "$U=\\left(\\begin{matrix}\n",
    "2 & 1 & 3 \\\\\n",
    "0 & \\frac{3}{2} & \\frac{-23}{2} \\\\\n",
    "0 & 0 & \\frac{52}{3}\n",
    "\\end{matrix}\\right),$\n",
    "\n",
    "$L=\\left(\\begin{matrix}\n",
    "1 & 0 & 0 \\\\\n",
    "\\frac{11}{2} & 1 & 0 \\\\\n",
    "\\frac{9}{2} & \\frac{7}{3} & 1\n",
    "\\end{matrix}\\right)$"
   ],
   "metadata": {
    "collapsed": false,
    "pycharm": {
     "name": "#%% md\n"
    }
   }
  },
  {
   "cell_type": "markdown",
   "source": [
    "Решим теперь систему\n",
    "\n",
    "$$Ly=b:$$\n",
    "\n",
    "$\\begin{cases}\n",
    "y_{1}=1, \\\\\n",
    "\\frac{11}{2} y_{1}+y_{2}=-6, \\\\\n",
    "\\frac{9}{2}y_{1}+\\frac{7}{3}y_{2}+y_{3}=-5.\n",
    "\\end{cases}$\n",
    "\n",
    "$$y_{1}=1,$$\n",
    "$$y_{2}=\\frac{-23}{2},$$\n",
    "$$y_{3}=\\frac{52}{3}.$$\n",
    "\n",
    "И затем систему\n",
    "\n",
    "$$Ux=y:$$\n",
    "\n",
    "$\\begin{cases}\n",
    "2x_{1}+x_{2}+3x_{3}=1, \\\\\n",
    "\\frac{3}{2}x_{2}-\\frac{23}{2}x_{3}=\\frac{-23}{2}, \\\\\n",
    "\\frac{52}{3}x_{3}=\\frac{52}{3}.\n",
    "\\end{cases}$\n",
    "\n",
    "$$x_{1}=-1,$$\n",
    "$$x_{2}=0,$$\n",
    "$$x_{3}=1.$$\n",
    "\n",
    "Произведем проверку, подставив полученные значения переменных в исходную систему:\n",
    "\n",
    "$\\begin{cases}\n",
    "2\\cdot(-1)+1\\cdot 0+3\\cdot 1=1 \\\\\n",
    "11\\cdot(-1)+7\\cdot 0+5\\cdot 1=-6 \\\\\n",
    "9\\cdot(-1)+8\\cdot 0+4\\cdot 1=-5\n",
    "\\end{cases}$\n",
    "\n",
    "Таким образом, найденное решение верно.\n"
   ],
   "metadata": {
    "collapsed": false,
    "pycharm": {
     "name": "#%% md\n"
    }
   }
  },
  {
   "cell_type": "markdown",
   "source": [
    "__4.__ Решить систему линейных уравнений методом Холецкого\n",
    "\n",
    "$\\begin{cases}\n",
    "81x_{1}-45x_{2}+45x_{3}=531 \\\\\n",
    "-45x_{1}+50x_{2}-15x_{3}=-460 \\\\\n",
    "45x_{1}-15x_{2}+38x_{3}=193\n",
    "\\end{cases}$"
   ],
   "metadata": {
    "collapsed": false,
    "pycharm": {
     "name": "#%% md\n"
    }
   }
  },
  {
   "cell_type": "markdown",
   "source": [
    "Произведем разложение на $LL^{T}$:\n",
    "\n",
    "$$l_{11}=\\sqrt{a_{11}}=\\sqrt{81}=9,$$\n",
    "$$l_{21}=\\frac{a_{21}}{l_{11}}=\\frac{-45}{9}=-5,$$\n",
    "$$l_{22}=\\sqrt{a_{22}-u_{21}^{2}}=\\sqrt{50-(-5)^{2}}=\\sqrt{25}=5,$$\n",
    "\n",
    "$$l_{31}=\\frac{a_{31}}{l_{11}}=\\frac{45}{9}=5,$$\n",
    "$$l_{32}=\\frac{1}{l_{22}}\\left ( a_{32}-l_{21}l_{31} \\right)=\\frac{-15-5\\cdot (-5)}{5}=2,$$\n",
    "\n",
    "$$l_{33}=\\sqrt{a_{33}-l_{13}^{2}-l_{23}^{2}}=\\sqrt{38-25-4}=3.$$\n",
    "\n",
    "Получили матрицу\n",
    "\n",
    "$L = \\begin{pmatrix}\n",
    "9 & 0 & 0 \\\\\n",
    "-5 & 5 & 0 \\\\\n",
    "5 & 2 & 3\n",
    "\\end{pmatrix},\n",
    "L^{T} = \\begin{pmatrix}\n",
    "9 & -5 & 5 \\\\\n",
    "0 & 5 & 2 \\\\\n",
    "0 & 0 & 3\n",
    "\\end{pmatrix}.$\n",
    "\n",
    "Решим систему $Ly=b:$\n",
    "\n",
    "$\\begin{cases}\n",
    "9y_{1}=531, \\\\\n",
    "-5y_{1}+5y_{2}=-460, \\\\\n",
    "5y_{1}+2y_{2}+3y_{3}=193.\n",
    "\\end{cases}$\n",
    "\n",
    "$$y_{1} = 59,$$\n",
    "$$y_{2}=-33,$$\n",
    "$$y_{3}=-12.$$\n",
    "\n",
    "И решим систему $L^{T}x=y:$\n",
    "\n",
    "$\\begin{cases}\n",
    "9x_{1}-5x_{2}+5x_{3}=59, \\\\\n",
    "5x_{2}+2x_{3}=-33, \\\\\n",
    "3x_{3}=-12.\n",
    "\\end{cases}$\n",
    "\n",
    "$$x_{1}=6,$$\n",
    "$$x_{2}=-5,$$\n",
    "$$x_{3}=-4.$$"
   ],
   "metadata": {
    "collapsed": false,
    "pycharm": {
     "name": "#%% md\n"
    }
   }
  },
  {
   "cell_type": "markdown",
   "source": [
    "__5*.__ Написать на Python программу с реализацией одного из изученных алгоритмов решения СЛАУ.\n"
   ],
   "metadata": {
    "collapsed": false,
    "pycharm": {
     "name": "#%% md\n"
    }
   }
  },
  {
   "cell_type": "code",
   "execution_count": 10,
   "outputs": [],
   "source": [
    "def cholesky(arr):\n",
    "    n = len(arr)\n",
    "    for k in range(n):\n",
    "        try:\n",
    "            arr[k, k] = (arr[k, k] - arr[k, 0:k] @ arr[k, 0:k]) ** 0.5\n",
    "        except Exception as e:\n",
    "            print(\n",
    "                \"Факторизация Холецкого предназначена только для симметричных положительно определенных матриц\"\n",
    "            )\n",
    "        for i in range(k + 1, n):\n",
    "            arr[i, k] = (arr[i, k] - arr[i, 0:k] @ arr[k, 0:k]) / arr[k, k]\n",
    "    for k in range(1, n):\n",
    "        arr[0:k, k] = 0.0\n",
    "    return arr"
   ],
   "metadata": {
    "collapsed": false,
    "pycharm": {
     "name": "#%%\n"
    }
   }
  },
  {
   "cell_type": "code",
   "execution_count": 11,
   "outputs": [
    {
     "data": {
      "text/plain": "array([[ 9,  0,  0],\n       [-5,  5,  0],\n       [ 5,  2,  3]])"
     },
     "execution_count": 11,
     "metadata": {},
     "output_type": "execute_result"
    }
   ],
   "source": [
    "arr = np.array([[81, -45, 45], [-45, 50, -15], [45, -15, 38]])\n",
    "L = cholesky(arr)\n",
    "L"
   ],
   "metadata": {
    "collapsed": false,
    "pycharm": {
     "name": "#%%\n"
    }
   }
  },
  {
   "cell_type": "code",
   "execution_count": 12,
   "outputs": [],
   "source": [
    "# встроенные функции\n",
    "\n",
    "A = np.array([[81, -45, 45], [-45, 50, -15], [45, -15, 38]])\n",
    "B = np.array([531, -460, 193])\n",
    "\n",
    "L_matrix = np.linalg.cholesky(A)\n",
    "Y_cf = linalg.solve_triangular(L_matrix, B, lower=True, check_finite=False)\n",
    "X_cf = linalg.solve_triangular(L_matrix, Y_cf, lower=True, trans=1, check_finite=False)"
   ],
   "metadata": {
    "collapsed": false,
    "pycharm": {
     "name": "#%%\n"
    }
   }
  },
  {
   "cell_type": "code",
   "execution_count": 13,
   "outputs": [
    {
     "data": {
      "text/plain": "(array([[ 9.,  0.,  0.],\n        [-5.,  5.,  0.],\n        [ 5.,  2.,  3.]]),\n array([ 59., -33., -12.]),\n array([ 6., -5., -4.]))"
     },
     "execution_count": 13,
     "metadata": {},
     "output_type": "execute_result"
    }
   ],
   "source": [
    "L_matrix, Y_cf, X_cf"
   ],
   "metadata": {
    "collapsed": false,
    "pycharm": {
     "name": "#%%\n"
    }
   }
  }
 ],
 "metadata": {
  "colab": {
   "collapsed_sections": [],
   "provenance": []
  },
  "kernelspec": {
   "display_name": "Python 3 (ipykernel)",
   "language": "python",
   "name": "python3"
  },
  "language_info": {
   "codemirror_mode": {
    "name": "ipython",
    "version": 3
   },
   "file_extension": ".py",
   "mimetype": "text/x-python",
   "name": "python",
   "nbconvert_exporter": "python",
   "pygments_lexer": "ipython3",
   "version": "3.8.13"
  }
 },
 "nbformat": 4,
 "nbformat_minor": 0
}