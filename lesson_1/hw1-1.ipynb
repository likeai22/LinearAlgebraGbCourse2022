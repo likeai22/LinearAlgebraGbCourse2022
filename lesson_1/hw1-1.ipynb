{
 "cells": [
  {
   "cell_type": "code",
   "source": [
    "import numpy as np\n",
    "from sympy import exp, symbols, expand, collect"
   ],
   "metadata": {
    "collapsed": false,
    "pycharm": {
     "name": "#%%\n"
    },
    "ExecuteTime": {
     "end_time": "2024-10-06T10:26:05.559270Z",
     "start_time": "2024-10-06T10:26:04.736392Z"
    }
   },
   "outputs": [],
   "execution_count": 1
  },
  {
   "cell_type": "markdown",
   "metadata": {
    "collapsed": true,
    "pycharm": {
     "name": "#%% md\n"
    }
   },
   "source": [
    "__1.__ Исследовать на линейную зависимость:\n",
    "\n",
    "$$f_{1}(x)=e^{x}, f_{2}(x)=1, f_{3}(x)=x+1, f_{4}(x)=x-e^{x}.$$\n",
    "\n",
    "__Решение__\n",
    "\n",
    "Система векторов $\\bar{\\upsilon }_1,\\text{...},\\bar{\\upsilon }_n$ называется линейно зависимой, если нулевой вектор раскладывается по ней не единственным образом,  то есть если найдутся такие коэффициенты, что $\\alpha _1 \\bar{\\upsilon }_1+\\text{...}+\\bar{\\upsilon }_1 \\alpha _n=\\bar {0}; \\: \\alpha ^2{}_1+\\text{...}+\\alpha ^2{}_n\\neq 0$, но не все они равны нулю\n"
   ]
  },
  {
   "cell_type": "code",
   "source": [
    "x, alpha1, alpha2, alpha3, alpha4, alpha4_new = symbols(\n",
    "    \"x alpha1 alpha2 alpha3 alpha4 alpha4_new\"\n",
    ")\n",
    "\n",
    "f1 = exp(x)\n",
    "f2 = 1\n",
    "f3 = x + 1\n",
    "f4 = x - exp(x)\n",
    "\n",
    "eq = expand(alpha1 * f1 + alpha2 * f2 + alpha3 * f3 + alpha4 * f4)\n",
    "eq = collect(eq, [exp(x), x])\n",
    "print(eq)"
   ],
   "metadata": {
    "collapsed": false,
    "pycharm": {
     "name": "#%%\n"
    },
    "ExecuteTime": {
     "end_time": "2024-10-06T10:26:05.638427Z",
     "start_time": "2024-10-06T10:26:05.562282Z"
    }
   },
   "outputs": [
    {
     "name": "stdout",
     "output_type": "stream",
     "text": [
      "alpha2 + alpha3 + x*(alpha3 + alpha4) + (alpha1 - alpha4)*exp(x)\n"
     ]
    }
   ],
   "execution_count": 2
  },
  {
   "cell_type": "markdown",
   "source": [
    "Если предположить, что векторы линейно независимы, можно сделать вывод, что все коэффициенты должны равняться нулю.\n",
    "\n",
    "$\\begin{cases}\n",
    " \\alpha_{2} + \\alpha_{3}=0,\\\\\n",
    " \\alpha_{1} - \\alpha_{4}=0,\\\\\n",
    " \\alpha_{3} + \\alpha_{4}=0\n",
    "\\end{cases}$\n",
    "\n",
    "Сделаем замены"
   ],
   "metadata": {
    "collapsed": false
   }
  },
  {
   "cell_type": "code",
   "source": [
    "eq = expand(eq.subs({alpha1: alpha4_new, alpha2: alpha4_new, alpha3: -alpha4_new}))\n",
    "\n",
    "print(collect(eq, [alpha4, alpha4_new]))"
   ],
   "metadata": {
    "collapsed": false,
    "pycharm": {
     "name": "#%%\n"
    },
    "ExecuteTime": {
     "end_time": "2024-10-06T10:26:05.655448Z",
     "start_time": "2024-10-06T10:26:05.640415Z"
    }
   },
   "outputs": [
    {
     "name": "stdout",
     "output_type": "stream",
     "text": [
      "alpha4*(x - exp(x)) + alpha4_new*(-x + exp(x))\n"
     ]
    }
   ],
   "execution_count": 3
  },
  {
   "cell_type": "markdown",
   "source": [
    "Векторы линейно зависимы"
   ],
   "metadata": {
    "collapsed": false
   }
  },
  {
   "cell_type": "markdown",
   "source": [
    "Заметим, что $f_{1}(x)=f_{3}(x) - f_{2}(x) - f_{4}(x)$, то есть вектор $f_{1}(x)$ — линейная комбинация векторов $f_{2}(x)$, $f_{3}(x)$ и $f_{4}(x)$, из чего можно сделать вывод, что векторы линейно зависимы."
   ],
   "metadata": {
    "collapsed": false
   }
  },
  {
   "cell_type": "markdown",
   "source": [
    "__2.__ Исследовать на линейную зависимость:\n",
    "$$f_{1}(x)=2, f_{2}(x)=x, f_{3}(x)=x^{2}, f_{4}(x)=(x+1)^{2}.$$\n",
    "\n",
    "__Решение__"
   ],
   "metadata": {
    "collapsed": false
   }
  },
  {
   "cell_type": "code",
   "source": [
    "f1 = 2\n",
    "f2 = x\n",
    "f3 = x**2\n",
    "f4 = (x + 1) ** 2\n",
    "\n",
    "eq = expand(alpha1 * f1 + alpha2 * f2 + alpha3 * f3 + alpha4 * f4)\n",
    "eq = collect(eq, [exp(x), x])\n",
    "print(eq)"
   ],
   "metadata": {
    "collapsed": false,
    "pycharm": {
     "name": "#%%\n"
    },
    "ExecuteTime": {
     "end_time": "2024-10-06T10:26:05.676782Z",
     "start_time": "2024-10-06T10:26:05.657451Z"
    }
   },
   "outputs": [
    {
     "name": "stdout",
     "output_type": "stream",
     "text": [
      "2*alpha1 + alpha4 + x**2*(alpha3 + alpha4) + x*(alpha2 + 2*alpha4)\n"
     ]
    }
   ],
   "execution_count": 4
  },
  {
   "cell_type": "markdown",
   "source": [
    "$\\begin{cases}\n",
    " 2 \\alpha_{1} + \\alpha_{4}=0,\\\\\n",
    " \\alpha_{3} + \\alpha_{4}=0,\\\\\n",
    " \\alpha_{2} + 2 \\alpha_{4}=0\n",
    "\\end{cases}$\n",
    "\n",
    "Сделаем замены"
   ],
   "metadata": {
    "collapsed": false
   }
  },
  {
   "cell_type": "code",
   "source": [
    "eq = expand(\n",
    "    eq.subs({alpha1: -alpha4_new / 2, alpha2: -2 * alpha4_new, alpha3: -alpha4_new})\n",
    ")\n",
    "\n",
    "print(collect(eq, [alpha4, alpha4_new]))"
   ],
   "metadata": {
    "collapsed": false,
    "pycharm": {
     "name": "#%%\n"
    },
    "ExecuteTime": {
     "end_time": "2024-10-06T10:26:05.698926Z",
     "start_time": "2024-10-06T10:26:05.680776Z"
    }
   },
   "outputs": [
    {
     "name": "stdout",
     "output_type": "stream",
     "text": [
      "alpha4*(x**2 + 2*x + 1) + alpha4_new*(-x**2 - 2*x - 1)\n"
     ]
    }
   ],
   "execution_count": 5
  },
  {
   "cell_type": "markdown",
   "source": [
    "Векторы линейно зависимы"
   ],
   "metadata": {
    "collapsed": false,
    "pycharm": {
     "name": "#%% md\n"
    }
   }
  },
  {
   "cell_type": "markdown",
   "source": [
    "\n",
    "$$f_{1}(x)=2, f_{2}(x)=x, f_{3}(x)=x^{2}, f_{4}(x)=(x+1)^{2}.$$"
   ],
   "metadata": {
    "collapsed": false
   }
  },
  {
   "cell_type": "markdown",
   "source": [
    "__3.__ Найти координаты вектора $x = (2, 3, 5)\\in \\mathbb{R}^{3}$ в базисе $b_{1}=(0, 0, 10)$, $b_{2}=(2, 0, 0)$, $b_{3}=(0, 1, 0)$.\n",
    "\n",
    "__Решение__"
   ],
   "metadata": {
    "collapsed": false,
    "pycharm": {
     "name": "#%% md\n"
    }
   }
  },
  {
   "cell_type": "code",
   "source": [
    "B = np.matrix(\"0 0 10; 2 0 0; 0 1 0\")\n",
    "print(np.linalg.det(B))"
   ],
   "metadata": {
    "collapsed": false,
    "pycharm": {
     "name": "#%%\n"
    },
    "ExecuteTime": {
     "end_time": "2024-10-06T10:26:05.714008Z",
     "start_time": "2024-10-06T10:26:05.700927Z"
    }
   },
   "outputs": [
    {
     "name": "stdout",
     "output_type": "stream",
     "text": [
      "20.000000000000007\n"
     ]
    }
   ],
   "execution_count": 6
  },
  {
   "cell_type": "markdown",
   "source": [
    "Так как определитель отличен от нуля, то векторы образуют базис, следовательно, вектор можно разложить по данному базису"
   ],
   "metadata": {
    "collapsed": false
   }
  },
  {
   "cell_type": "code",
   "source": [
    "x = np.array([2, 3, 5])\n",
    "print(np.linalg.solve(B.T, x))"
   ],
   "metadata": {
    "collapsed": false,
    "pycharm": {
     "name": "#%%\n"
    },
    "ExecuteTime": {
     "end_time": "2024-10-06T10:26:05.725759Z",
     "start_time": "2024-10-06T10:26:05.715949Z"
    }
   },
   "outputs": [
    {
     "name": "stdout",
     "output_type": "stream",
     "text": [
      "[0.5 1.  3. ]\n"
     ]
    }
   ],
   "execution_count": 7
  },
  {
   "cell_type": "markdown",
   "source": [
    "то есть координатами вектора $x$ в базисе $B$ являются $0.5,\\: 1,\\: 3$."
   ],
   "metadata": {
    "collapsed": false
   }
  },
  {
   "cell_type": "markdown",
   "source": [
    "__4.__ Найти координаты вектора $3x^{2}-2x+2\\in\\mathbb{R}^{3}[x]$:\n",
    "\n",
    "   а) в базисе $1$, $x$, $x^{2}$;\n",
    "\n",
    "   б) в базисе $x^{2}$, $x-1$, $1$.\n",
    "\n",
    "__Решение__\n",
    "\n",
    "а) в базисе $1,\\: x,\\: x^{2}$;\n",
    "\n",
    "По формуле Тейлора, любой многочлен степени не выше 3 можно представить в виде линейной комбинации линейно независимых векторов. Воспользуемся формулой Тейлора:\n",
    "$f(x) = \\sum_{n=0}^k \\frac{f^{(n)}(a)}{n!}(x - a)^n=f(a)+ f'(a)(x - a) \\\\ + \\frac{f^{(2)}(a)}{2!}(x - a)^2 + \\ldots + \\frac{f^{(k)}(a)}{k!}(x - a)^k$\n",
    "\n",
    "$f(t) = f(0) + f'(0)(x - 0) + \\frac{f^{(2)}(0)}{2!}(x - 0)^2$\n",
    "\n",
    "Найдем производные для $f(x) = 3x^2 - 2 x + 2$:\n",
    "\n",
    "$f'(x) = 6x -2, \\\\ f''(x) = 6$\n",
    "\n",
    "Найдем коэффициенты-координаты:\n",
    "\n",
    "$f(0) = 2;\\\\ f'(0) = -2;\\\\ \\frac{f''(0)}{2!} = 3$\n",
    "\n",
    "т.е. многочлен $f$ имеет координаты $2, -2, 3$ в базисе $1,\\: x,\\: x^{2}$\n",
    "\n",
    "Проверка:"
   ],
   "metadata": {
    "collapsed": false
   }
  },
  {
   "cell_type": "code",
   "source": [
    "B = np.matrix(\"1 0 0; 0 1 0; 0 0 1\")\n",
    "print(np.linalg.det(B))"
   ],
   "metadata": {
    "collapsed": false,
    "pycharm": {
     "name": "#%%\n"
    },
    "ExecuteTime": {
     "end_time": "2024-10-06T10:26:05.737657Z",
     "start_time": "2024-10-06T10:26:05.727758Z"
    }
   },
   "outputs": [
    {
     "name": "stdout",
     "output_type": "stream",
     "text": [
      "1.0\n"
     ]
    }
   ],
   "execution_count": 8
  },
  {
   "cell_type": "code",
   "source": [
    "x = np.array([2, -2, 3])\n",
    "print(np.linalg.solve(B.T, x))"
   ],
   "metadata": {
    "collapsed": false,
    "pycharm": {
     "name": "#%%\n"
    },
    "ExecuteTime": {
     "end_time": "2024-10-06T10:26:05.751092Z",
     "start_time": "2024-10-06T10:26:05.739658Z"
    }
   },
   "outputs": [
    {
     "name": "stdout",
     "output_type": "stream",
     "text": [
      "[ 2. -2.  3.]\n"
     ]
    }
   ],
   "execution_count": 9
  },
  {
   "cell_type": "markdown",
   "source": [
    "б) в базисе $x^{2},\\: x-1,\\: 1$.\n",
    "\n",
    "Сделаем замену $t = x-1$"
   ],
   "metadata": {
    "collapsed": false
   }
  },
  {
   "cell_type": "code",
   "source": [
    "x, t = symbols(\"x t\")\n",
    "x = t + 1\n",
    "eq = 3 * x**2 - 2 * x + 2\n",
    "eq = expand(eq)\n",
    "print(eq)"
   ],
   "metadata": {
    "collapsed": false,
    "pycharm": {
     "name": "#%%\n"
    },
    "ExecuteTime": {
     "end_time": "2024-10-06T10:26:05.766899Z",
     "start_time": "2024-10-06T10:26:05.753110Z"
    }
   },
   "outputs": [
    {
     "name": "stdout",
     "output_type": "stream",
     "text": [
      "3*t**2 + 4*t + 3\n"
     ]
    }
   ],
   "execution_count": 10
  },
  {
   "cell_type": "code",
   "source": [
    "# c t\n",
    "B = np.matrix(\"1 2 1; 0 1 0; 0 0 1\")\n",
    "print(np.linalg.det(B))"
   ],
   "metadata": {
    "collapsed": false,
    "pycharm": {
     "name": "#%%\n"
    },
    "ExecuteTime": {
     "end_time": "2024-10-06T10:26:05.778918Z",
     "start_time": "2024-10-06T10:26:05.768919Z"
    }
   },
   "outputs": [
    {
     "name": "stdout",
     "output_type": "stream",
     "text": [
      "1.0\n"
     ]
    }
   ],
   "execution_count": 11
  },
  {
   "cell_type": "code",
   "source": [
    "x = np.array([3, 4, 3])\n",
    "print(np.linalg.solve(B.T, x))"
   ],
   "metadata": {
    "collapsed": false,
    "pycharm": {
     "name": "#%%\n"
    },
    "ExecuteTime": {
     "end_time": "2024-10-06T10:26:05.790187Z",
     "start_time": "2024-10-06T10:26:05.780927Z"
    }
   },
   "outputs": [
    {
     "name": "stdout",
     "output_type": "stream",
     "text": [
      "[ 3. -2.  0.]\n"
     ]
    }
   ],
   "execution_count": 12
  },
  {
   "cell_type": "markdown",
   "source": [
    "Решим без замен:"
   ],
   "metadata": {
    "collapsed": false
   }
  },
  {
   "cell_type": "code",
   "source": [
    "# c x\n",
    "B = np.matrix(\"1 0 0; 0 1 -1; 0 0 1\")\n",
    "print(np.linalg.det(B))"
   ],
   "metadata": {
    "collapsed": false,
    "pycharm": {
     "name": "#%%\n"
    },
    "ExecuteTime": {
     "end_time": "2024-10-06T10:26:05.801843Z",
     "start_time": "2024-10-06T10:26:05.792207Z"
    }
   },
   "outputs": [
    {
     "name": "stdout",
     "output_type": "stream",
     "text": [
      "1.0\n"
     ]
    }
   ],
   "execution_count": 13
  },
  {
   "cell_type": "code",
   "source": [
    "x = np.array([3, -2, 2])\n",
    "print(np.linalg.solve(B.T, x))"
   ],
   "metadata": {
    "collapsed": false,
    "pycharm": {
     "name": "#%%\n"
    },
    "ExecuteTime": {
     "end_time": "2024-10-06T10:26:05.815961Z",
     "start_time": "2024-10-06T10:26:05.806863Z"
    }
   },
   "outputs": [
    {
     "name": "stdout",
     "output_type": "stream",
     "text": [
      "[ 3. -2.  0.]\n"
     ]
    }
   ],
   "execution_count": 14
  },
  {
   "cell_type": "markdown",
   "source": [
    "т.е. многочлен имеет координаты $3, -2, 0$ в базисе $x^{2},\\: x-1,\\: 1$"
   ],
   "metadata": {
    "collapsed": false
   }
  },
  {
   "cell_type": "markdown",
   "source": [
    "__5.__ Установить, является ли линейным подпространством:\n",
    "\n",
    "а) совокупность всех векторов трехмерного пространства, у которых по крайней мере одна из первых двух координат равна нулю;\n",
    "\n",
    "б) все векторы, являющиеся линейными комбинациями данных векторов $\\{u_{1}, u_{2}, ..., u_{n}\\}$.\n",
    "\n",
    "__Решение__"
   ],
   "metadata": {
    "collapsed": false
   }
  },
  {
   "cell_type": "code",
   "source": [
    "x1, x2, y1, y2, x3, x4, y3, y4 = symbols(\"x1 x2 y1 y2 x3 x4 y3 y4\")\n",
    "\n",
    "x = np.array([0, x2, x3])\n",
    "y = np.array([y1, 0, y3])\n",
    "\n",
    "print(x + y)"
   ],
   "metadata": {
    "collapsed": false,
    "pycharm": {
     "name": "#%%\n"
    },
    "ExecuteTime": {
     "end_time": "2024-10-06T10:26:05.828375Z",
     "start_time": "2024-10-06T10:26:05.817971Z"
    }
   },
   "outputs": [
    {
     "name": "stdout",
     "output_type": "stream",
     "text": [
      "[y1 x2 x3 + y3]\n"
     ]
    }
   ],
   "execution_count": 15
  },
  {
   "cell_type": "markdown",
   "source": [
    "а)\n",
    "Подмножество линейного пространства является подпространством, если оно замкнуто относительно операций сложения и умножения на числа. Сумма \"нулевых\" и \"ненулевых\" столбцов не является столбцом того же вида, т.е. операция сложения незамкнута и подпространство не изоморфно $u^{n-1}$\n",
    "\n",
    "б) Да, множество всех линейных комбинаций $\\{u_{1}, u_{2}, ..., u_{n}\\}$ всегда образует подпространство"
   ],
   "metadata": {
    "collapsed": false
   }
  }
 ],
 "metadata": {
  "kernelspec": {
   "display_name": "Python 3",
   "language": "python",
   "name": "python3"
  },
  "language_info": {
   "codemirror_mode": {
    "name": "ipython",
    "version": 2
   },
   "file_extension": ".py",
   "mimetype": "text/x-python",
   "name": "python",
   "nbconvert_exporter": "python",
   "pygments_lexer": "ipython2",
   "version": "2.7.6"
  }
 },
 "nbformat": 4,
 "nbformat_minor": 0
}
