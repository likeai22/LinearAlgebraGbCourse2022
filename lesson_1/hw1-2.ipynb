{
 "cells": [
  {
   "cell_type": "code",
   "execution_count": 2,
   "outputs": [],
   "source": [
    "import numpy as np\n",
    "from scipy.spatial.distance import cosine"
   ],
   "metadata": {
    "collapsed": false,
    "pycharm": {
     "name": "#%%\n"
    }
   }
  },
  {
   "cell_type": "markdown",
   "metadata": {
    "collapsed": true,
    "pycharm": {
     "name": "#%% md\n"
    }
   },
   "source": [
    "__1.__ Найти скалярное произведение векторов $x, y \\in \\mathbb{R}$:<br>\n",
    "а) $x=(0,-3, 6),~y=(-4, 7, 9);$<br>\n",
    "б) $x=(7, -4, 0, 1),~y=(-3, 1, 11, 2).$\n",
    "\n",
    "\n",
    "__Решение__"
   ]
  },
  {
   "cell_type": "code",
   "execution_count": 3,
   "outputs": [
    {
     "data": {
      "text/plain": "33"
     },
     "execution_count": 3,
     "metadata": {},
     "output_type": "execute_result"
    }
   ],
   "source": [
    "# a)\n",
    "\n",
    "x = np.array([0, -3, 6])\n",
    "y = np.array([-4, 7, 9])\n",
    "\n",
    "x @ y"
   ],
   "metadata": {
    "collapsed": false,
    "pycharm": {
     "name": "#%%\n"
    }
   }
  },
  {
   "cell_type": "code",
   "execution_count": 4,
   "outputs": [
    {
     "data": {
      "text/plain": "-23"
     },
     "execution_count": 4,
     "metadata": {},
     "output_type": "execute_result"
    }
   ],
   "source": [
    "# b)\n",
    "\n",
    "x = np.array([7, -4, 0, 1])\n",
    "y = np.array([-3, 1, 11, 2])\n",
    "\n",
    "x @ y"
   ],
   "metadata": {
    "collapsed": false,
    "pycharm": {
     "name": "#%%\n"
    }
   }
  },
  {
   "cell_type": "markdown",
   "source": [
    "__2.__ Найти нормы векторов $(4, 2, 4)$ и $(12, 3, 4)$ и угол между ними.\n",
    "\n",
    "__Решение__"
   ],
   "metadata": {
    "collapsed": false
   }
  },
  {
   "cell_type": "code",
   "execution_count": 18,
   "outputs": [
    {
     "name": "stdout",
     "output_type": "stream",
     "text": [
      "Манхэттенская норма векторов a и b:\n",
      "10.0 & 19.0\n",
      "Евклидова норма векторов a и b:\n",
      "6.0 & 13.0\n",
      "Косинус угла между a и b: 0.90\n",
      "Угол между a и b: 26.18\n"
     ]
    }
   ],
   "source": [
    "a = np.array([4, 2, 4])\n",
    "b = np.array([12, 3, 4])\n",
    "\n",
    "np.linalg.norm(a)\n",
    "print(\n",
    "    f\"Манхэттенская норма векторов a и b:\\n{np.linalg.norm(a, ord=1)} & {np.linalg.norm(b, ord=1)}\"\n",
    ")\n",
    "print(\n",
    "    f\"Евклидова норма векторов a и b:\\n{np.linalg.norm(a, ord=2)} & {np.linalg.norm(b, ord=2)}\"\n",
    ")\n",
    "\n",
    "cos_phi = 1 - cosine(a, b)\n",
    "phi_degrees = np.degrees(np.arccos(cos_phi))\n",
    "\n",
    "print(f\"Косинус угла между a и b: {cos_phi:.2f}\")\n",
    "print(f\"Угол между a и b: {phi_degrees:.2f}\")"
   ],
   "metadata": {
    "collapsed": false,
    "pycharm": {
     "name": "#%%\n"
    }
   }
  },
  {
   "cell_type": "markdown",
   "source": [
    "__3.__ Будет ли линейное пространство евклидовым, если за скалярное произведение принять:<br>\n",
    "а) произведение длин векторов;<br>\n",
    "б) утроенное обычное скалярное произведение векторов?\n",
    "\n",
    "\n",
    "__Решение__\n",
    "\n",
    "а) Нет. Для геометрических векторов определение скалярного произведения гласит: скалярное произведение двух векторов есть произведение длин этих векторов на косинус угла между ними. ${\\displaystyle (\\mathbf {a} ,\\mathbf {b} )=|\\mathbf {a} ||\\mathbf {b} |\\cos(\\theta )}$\n",
    "\n",
    "Если в линейном пространстве определено скалярное произведение, то такое пространство называется евклидовым пространством.\n",
    "\n",
    "В условии задания это определение не завершено, не сказано про косинус угла между векторами.<br>\n",
    "\n",
    "б) Да"
   ],
   "metadata": {
    "collapsed": false
   }
  },
  {
   "cell_type": "markdown",
   "source": [
    "__4.__ Какие из нижеперечисленных векторов образуют ортонормированный базис в линейном пространстве $\\mathbb{R}^{3}$:<br>\n",
    "а) $(1,0,0),(0,0,1);$ <br>\n",
    "б) $(1/\\sqrt{2},-1/\\sqrt{2},0),(1/\\sqrt{2},1/\\sqrt{2},0), (0,0,1);$<br>\n",
    "в) $(1/2, -1/2, 0), (0, 1/2, 1/2), (0,0,1);$<br>\n",
    "г) $(1,0,0),(0,1,0),(0,0,1)?$\n",
    "\n",
    "__Решение__"
   ],
   "metadata": {
    "collapsed": false
   }
  },
  {
   "cell_type": "markdown",
   "source": [
    "a) Задано 2 вектора в $\\mathbb{R}^{3}$. Даже если исходная система векторов линейно независима, количество векторов в ней недостаточно для того, чтобы быть базисом пространства $\\mathbb{R}^{3}$ (базис такого пространства состоит из 3 векторов).\n",
    "\n",
    "Не образуют ортонормированный базис в линейном пространстве"
   ],
   "metadata": {
    "collapsed": false,
    "pycharm": {
     "name": "#%% md\n"
    }
   }
  },
  {
   "cell_type": "markdown",
   "source": [
    "б) образуют ортонормированный базис"
   ],
   "metadata": {
    "collapsed": false,
    "pycharm": {
     "name": "#%% md\n"
    }
   }
  },
  {
   "cell_type": "code",
   "execution_count": 31,
   "outputs": [
    {
     "data": {
      "text/plain": "0.0"
     },
     "execution_count": 31,
     "metadata": {},
     "output_type": "execute_result"
    }
   ],
   "source": [
    "item = 1 / (2**0.5)\n",
    "\n",
    "a = np.array([item, -item, 0])\n",
    "b = np.array([item, item, 0])\n",
    "c = np.array([0, 0, 1])\n",
    "\n",
    "1 - cosine(a, b)  # 0.0\n",
    "np.dot((a @ b), c)"
   ],
   "metadata": {
    "collapsed": false,
    "pycharm": {
     "name": "#%%\n"
    }
   }
  },
  {
   "cell_type": "markdown",
   "source": [
    "в) не образуют ортонормированный базис в линейном пространстве"
   ],
   "metadata": {
    "collapsed": false,
    "pycharm": {
     "name": "#%% md\n"
    }
   }
  },
  {
   "cell_type": "code",
   "execution_count": null,
   "outputs": [],
   "source": [
    "a = np.array([1 / 2, -1 / 2, 0])\n",
    "b = np.array([0, 1 / 2, 1 / 2])\n",
    "c = np.array([0, 0, 1])\n",
    "\n",
    "1 - cosine(a, b)  # -0.5\n",
    "np.dot((a @ b), c)"
   ],
   "metadata": {
    "collapsed": false,
    "pycharm": {
     "name": "#%%\n"
    }
   }
  },
  {
   "cell_type": "markdown",
   "source": [
    "г) образуют ортонормированный базис"
   ],
   "metadata": {
    "collapsed": false,
    "pycharm": {
     "name": "#%% md\n"
    }
   }
  }
 ],
 "metadata": {
  "kernelspec": {
   "display_name": "Python 3",
   "language": "python",
   "name": "python3"
  },
  "language_info": {
   "codemirror_mode": {
    "name": "ipython",
    "version": 2
   },
   "file_extension": ".py",
   "mimetype": "text/x-python",
   "name": "python",
   "nbconvert_exporter": "python",
   "pygments_lexer": "ipython2",
   "version": "2.7.6"
  }
 },
 "nbformat": 4,
 "nbformat_minor": 0
}