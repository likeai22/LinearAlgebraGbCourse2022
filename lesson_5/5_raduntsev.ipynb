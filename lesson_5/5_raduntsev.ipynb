{
 "nbformat": 4,
 "nbformat_minor": 0,
 "metadata": {
  "colab": {
   "name": "Методичка №5.ipynb",
   "provenance": [],
   "collapsed_sections": []
  },
  "language_info": {
   "codemirror_mode": {
    "name": "ipython",
    "version": 3
   },
   "file_extension": ".py",
   "mimetype": "text/x-python",
   "name": "python",
   "nbconvert_exporter": "python",
   "pygments_lexer": "ipython3",
   "version": "3.7.1"
  },
  "kernelspec": {
   "display_name": "Python 3",
   "language": "python",
   "name": "python3"
  }
 },
 "cells": [
  {
   "cell_type": "markdown",
   "source": [],
   "metadata": {
    "collapsed": false
   }
  },
  {
   "cell_type": "code",
   "execution_count": 48,
   "outputs": [],
   "source": [
    "import numpy as np\n",
    "import scipy.linalg as la\n",
    "\n",
    "np.set_printoptions(precision=2, suppress=True)"
   ],
   "metadata": {
    "collapsed": false,
    "pycharm": {
     "name": "#%%\n"
    }
   }
  },
  {
   "cell_type": "markdown",
   "source": [
    "## Практическое задание\n",
    "\n",
    "1. Найдите посредством NumPy SVD для матрицы:\n",
    "\n",
    "$\\begin{pmatrix}\n",
    "1 & 2 & 0\\\\ \n",
    "0 & 0 & 5\\\\ \n",
    "3 & -4 & 2\\\\ \n",
    "1 & 6 & 5\\\\ \n",
    "0 & 1 & 0\n",
    "\\end{pmatrix}.$"
   ],
   "metadata": {
    "collapsed": false
   }
  },
  {
   "cell_type": "code",
   "execution_count": 49,
   "outputs": [
    {
     "name": "stdout",
     "output_type": "stream",
     "text": [
      "[[ 1  2  0]\n",
      " [ 0  0  5]\n",
      " [ 3 -4  2]\n",
      " [ 1  6  5]\n",
      " [ 0  1  0]]\n"
     ]
    }
   ],
   "source": [
    "M = np.array(\n",
    "    [\n",
    "        [1, 2, 0],\n",
    "        [0, 0, 5],\n",
    "        [3, -4, 2],\n",
    "        [1, 6, 5],\n",
    "        [0, 1, 0],\n",
    "    ]\n",
    ")\n",
    "print(M)"
   ],
   "metadata": {
    "collapsed": false,
    "pycharm": {
     "name": "#%%\n"
    }
   }
  },
  {
   "cell_type": "code",
   "execution_count": 50,
   "outputs": [
    {
     "name": "stdout",
     "output_type": "stream",
     "text": [
      "U =\n",
      " [[ 0.17  0.16 -0.53]\n",
      " [ 0.39 -0.53  0.61]\n",
      " [-0.14 -0.82 -0.52]\n",
      " [ 0.89  0.06 -0.25]\n",
      " [ 0.08  0.11 -0.08]]\n",
      "S =\n",
      " [8.82 6.14 2.53]\n",
      "V =\n",
      " [[ 0.07  0.72  0.69]\n",
      " [-0.37  0.67 -0.65]\n",
      " [-0.93 -0.21  0.31]]\n"
     ]
    }
   ],
   "source": [
    "u, s, v = np.linalg.svd(M, full_matrices=False)\n",
    "for t, x in zip([u, s, v], [\"U =\\n\", \"S =\\n\", \"V =\\n\"]):\n",
    "    print(x, t)"
   ],
   "metadata": {
    "collapsed": false,
    "pycharm": {
     "name": "#%%\n"
    }
   }
  },
  {
   "cell_type": "code",
   "execution_count": 51,
   "outputs": [
    {
     "name": "stdout",
     "output_type": "stream",
     "text": [
      "[[8.82 0.   0.  ]\n",
      " [0.   6.14 0.  ]\n",
      " [0.   0.   2.53]]\n"
     ]
    }
   ],
   "source": [
    "D = np.diag(s)\n",
    "print(D)"
   ],
   "metadata": {
    "collapsed": false,
    "pycharm": {
     "name": "#%%\n"
    }
   }
  },
  {
   "cell_type": "markdown",
   "source": [
    "Проверим полученный результат $U\\cdot D\\cdot V^T=A$"
   ],
   "metadata": {
    "collapsed": false
   }
  },
  {
   "cell_type": "code",
   "execution_count": 52,
   "outputs": [
    {
     "name": "stdout",
     "output_type": "stream",
     "text": [
      "Product\n",
      " [[ 1.  2.  0.]\n",
      " [ 0. -0.  5.]\n",
      " [ 3. -4.  2.]\n",
      " [ 1.  6.  5.]\n",
      " [-0.  1. -0.]]\n"
     ]
    }
   ],
   "source": [
    "print(\"Product\\n\", u @ np.diag(s) @ v)"
   ],
   "metadata": {
    "collapsed": false,
    "pycharm": {
     "name": "#%%\n"
    }
   }
  },
  {
   "cell_type": "markdown",
   "source": [
    "2. Для матрицы из предыдущего задания найдите:\n",
    "\n",
    "а) евклидову норму;\n",
    "Для SVD разложения:\n",
    "$\\left \\| A \\right \\|_{E}={max}(D)=\\mu_{1}=D_{11}=8,8249$"
   ],
   "metadata": {
    "collapsed": false
   }
  },
  {
   "cell_type": "code",
   "execution_count": 53,
   "outputs": [
    {
     "name": "stdout",
     "output_type": "stream",
     "text": [
      "8.824868854820444\n",
      "8.824868854820444\n"
     ]
    }
   ],
   "source": [
    "print(np.linalg.norm(s[0]))\n",
    "print(np.linalg.norm(M, ord=2))"
   ],
   "metadata": {
    "collapsed": false,
    "pycharm": {
     "name": "#%%\n"
    }
   }
  },
  {
   "cell_type": "markdown",
   "source": [
    "б) норму Фробениуса.\n",
    "\n",
    "$\\left \\| A \\right \\|_{F}=\\sqrt{\\sum_{i=1}^{m}\\sum_{j=1}^{n}a_{ij}^{2}}==\\sqrt{1^2+2^2+0^2+0^2+0^2+5^2+3^2+(-4)^2+2^2+1^2+6^2+5^2+0^2+1^2+0^2}=\\sqrt{122}=11,045361$\n",
    "$\\left \\| A \\right \\|_{F}=\\sqrt{\\sum_{k=1}^{r}\\mu_{k}^{2}}=\\sqrt{8,8249^2+6,1406^2+2,5327^2}=11,045379$"
   ],
   "metadata": {
    "collapsed": false
   }
  },
  {
   "cell_type": "code",
   "execution_count": 54,
   "outputs": [
    {
     "name": "stdout",
     "output_type": "stream",
     "text": [
      "11.045361017187263\n",
      "11.045361017187263\n"
     ]
    },
    {
     "data": {
      "text/plain": "11.045361017187261"
     },
     "execution_count": 54,
     "metadata": {},
     "output_type": "execute_result"
    }
   ],
   "source": [
    "print(np.linalg.norm(s))\n",
    "print((np.sum(s**2)) ** 0.5)\n",
    "la.norm(M, ord=\"fro\")"
   ],
   "metadata": {
    "collapsed": false,
    "pycharm": {
     "name": "#%%\n"
    }
   }
  }
 ]
}