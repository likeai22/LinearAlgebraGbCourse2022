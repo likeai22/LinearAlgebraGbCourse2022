{
 "cells": [
  {
   "cell_type": "code",
   "execution_count": 21,
   "metadata": {
    "collapsed": true
   },
   "outputs": [],
   "source": [
    "import numpy as np\n",
    "import sympy as sp"
   ]
  },
  {
   "cell_type": "markdown",
   "source": [
    "__1.__ Найдите собственные векторы и собственные значения для линейного оператора, заданного матрицей:\n",
    "\n",
    "$A=\\begin{pmatrix}\n",
    "-1 & -6\\\\\n",
    "2 & 6\n",
    "\\end{pmatrix}.$\n",
    "\n",
    "__Решение__\n",
    "\n",
    "Вычтем «лямбду» из всех чисел главной диагонали матрицы\n",
    "\n",
    "$\\left|\n",
    "\\begin{array}{cc}\n",
    " -1-\\lambda  & -6 \\\\\n",
    " 2 & 6-\\lambda  \\\\\n",
    "\\end{array}\n",
    "\\right|=0$\n",
    "\n",
    "$(-\\lambda -1) (-\\lambda +6) + 12 =\\lambda ^2-5 \\lambda -6 + 12 = (\\lambda -3) (\\lambda -2)$\n",
    "\n",
    "$\\Rightarrow\n",
    "\\begin{cases}\n",
    "\\lambda=3\\\\\n",
    "\\lambda=2\\\\\n",
    "\\end{cases}\n",
    "$\n",
    "\n",
    "$\\begin{pmatrix}\n",
    "-1 & -6\\\\\n",
    "2 & 6\n",
    "\\end{pmatrix}\n",
    "\\begin{pmatrix}\n",
    "x_{1}\\\\\n",
    "x_{2}\n",
    "\\end{pmatrix}=\n",
    "\\lambda\n",
    "\\begin{pmatrix}\n",
    "x_{1}\\\\\n",
    "x_{2}\n",
    "\\end{pmatrix}$\n",
    "\n",
    "$\\lambda = 2:$\n",
    "\n",
    "$\\begin{cases}\n",
    "-x_{1}-6x_{2} = 2x_{1}\\\\\n",
    "2x_{1}+6x_{2} = 2x_{2}\n",
    "\\end{cases}\\Rightarrow\n",
    "\\begin{cases}\n",
    "3x_{1} = -6x_{2}\\\\\n",
    "2x_{2} = -x_{1}\n",
    "\\end{cases}\\Rightarrow\n",
    "\\begin{cases}\n",
    "x_{1} = -2\\\\\n",
    "x_{2} = 1\n",
    "\\end{cases}$\n",
    "\n",
    "\n",
    "$\\lambda = 3:$\n",
    "\n",
    "$\\begin{cases}\n",
    "-x_{1}-6x_{2} = 3x_{1}\\\\\n",
    "2x_{1}+6x_{2} = 3x_{2}\n",
    "\\end{cases}\\Rightarrow\n",
    "\\begin{cases}\n",
    "4x_{1} = -6x_{2}\\\\\n",
    "2x_{1} = -3x_{2}\n",
    "\\end{cases}\\Rightarrow\n",
    "\\begin{cases}\n",
    "x_{1} = -\\frac{3}{2}\\\\\n",
    "x_{2} = 1\n",
    "\\end{cases}\n",
    "$"
   ],
   "metadata": {
    "collapsed": false
   }
  },
  {
   "cell_type": "code",
   "execution_count": 41,
   "outputs": [
    {
     "name": "stdout",
     "output_type": "stream",
     "text": [
      "Собственные значения: [2. 3.] \n",
      "Нормированные собственные векторы:\n",
      "отвечающий первому собственному значению [-0.89442719  0.4472136 ],\n",
      "отвечающий второму собственному значению [ 0.83205029 -0.5547002 ]\n",
      "Ненормированные собственные векторы:\n",
      "отвечающий первому собственному значению [-2, 1],\n",
      "отвечающий второму собственному значению [-3/2, 1]\n"
     ]
    }
   ],
   "source": [
    "A = np.array([[-1, -6], [2, 6]])\n",
    "L, Vn = np.linalg.eig(A)\n",
    "\n",
    "As = sp.Matrix([[-1, -6], [2, 6]])\n",
    "Vs = [list(i[2][0]) for i in As.eigenvects()]\n",
    "print(\n",
    "    f\"Собственные значения: {L} \\nНормированные собственные векторы:\\nотвечающий первому собственному значению {Vn[:, 0]},\\nотвечающий второму собственному значению {Vn[:, 1]}\\nНенормированные собственные векторы:\\nотвечающий первому собственному значению {Vs[0]},\\nотвечающий второму собственному значению {Vs[1]}\"\n",
    ")"
   ],
   "metadata": {
    "collapsed": false,
    "pycharm": {
     "name": "#%%\n"
    }
   }
  },
  {
   "cell_type": "markdown",
   "source": [
    "Собственными векторами являются также и все векторы вида\n",
    "$c_1e_1$, $с_2е_2$, где $c_1-c_2$ — произвольные действительные числа не равные $0$.\n",
    "\n",
    "__Ответ.__ $\\lambda_1 = 2$, $e_1 = c_1(-0.89442719,  0.4472136)$; $\\lambda_2 = 3$, $e_2 = c_2(0.83205029, -0.5547002)$, $c_1, c_2 \\in \\mathbb{R} \\backslash \\{0\\}$."
   ],
   "metadata": {
    "collapsed": false
   }
  },
  {
   "cell_type": "markdown",
   "source": [
    "__2.__ Дан оператор поворота на 180 градусов, задаваемый матрицей:\n",
    "\n",
    "$A=\\begin{pmatrix}\n",
    "-1 & 0\\\\\n",
    "0 & -1\n",
    "\\end{pmatrix}.$\n",
    "\n",
    "Покажите, что __любой__ вектор считается для него собственным.\n",
    "\n",
    "__Решение__\n",
    "\n",
    "Характеристическое уравнение $(-1-\\lambda)^2$ с кратными собственными числами $\\lambda_{1, 2} = -1$\n",
    "\n",
    "Найдем собственные векторы:\n",
    "\n",
    "Подставив $\\lambda_{1, 2} = -1$ в определитель и запишем однородную систему линейных уравнений:\n",
    "\n",
    "$\\begin{cases}\n",
    "0 \\cdot x+0\\cdot y= 0 \\\\\n",
    "0 \\cdot x+0\\cdot y = 0\n",
    "\\end{cases},$\n",
    "\n",
    "Системе удовлетворяют координаты любого вектора. Таким образом, любой ненулевой вектор этого преобразования является собственным."
   ],
   "metadata": {
    "collapsed": false
   }
  },
  {
   "cell_type": "code",
   "execution_count": 15,
   "outputs": [
    {
     "name": "stdout",
     "output_type": "stream",
     "text": [
      "Собственные значения: [-1. -1.] \n",
      "Собственный вектор, отвечающий первому собственному значению [1. 0.],\n",
      "Собственный вектор, отвечающий второму собственному значению [0. 1.]\n"
     ]
    }
   ],
   "source": [
    "A = np.array([[-1, 0], [0, -1]])\n",
    "L, V = np.linalg.eig(A)\n",
    "print(\n",
    "    f\"Собственные значения: {L} \\nСобственный вектор, отвечающий первому собственному значению {V[:, 0]},\\nСобственный вектор, отвечающий второму собственному значению {V[:, 1]}\"\n",
    ")"
   ],
   "metadata": {
    "collapsed": false,
    "pycharm": {
     "name": "#%%\n"
    }
   }
  },
  {
   "cell_type": "markdown",
   "source": [
    "__3.__ Пусть линейный оператор задан матрицей:\n",
    "\n",
    "$A=\\begin{pmatrix}\n",
    "1 & 1\\\\\n",
    "-1 & 3\n",
    "\\end{pmatrix}.$\n",
    "\n",
    "Установите, считается ли вектор $x=(1,1)$ собственным вектором этого линейного оператора.\n",
    "\n",
    "__Решение__\n",
    "\n",
    "Предположим, что вектор $x$ считается собственным вектором заданного линейного оператора, тогда должно существовать некоторое вещественное число $\\lambda$, при котором:\n",
    "\n",
    "$\\begin{pmatrix}\n",
    "1 & 1\\\\\n",
    "-1 & 3\n",
    "\\end{pmatrix}\n",
    "\\begin{pmatrix}\n",
    "1\\\\\n",
    "1\n",
    "\\end{pmatrix}=\n",
    "\\lambda\n",
    "\\begin{pmatrix}\n",
    "1\\\\\n",
    "1\n",
    "\\end{pmatrix}.\n",
    "$\n",
    "\n",
    "Из этого следует:\n",
    "\n",
    "$\\begin{cases}\n",
    "1+1=\\lambda \\\\\n",
    "-1+3=\\lambda\n",
    "\\end{cases}\n",
    "\\Rightarrow\n",
    "\\begin{cases}\n",
    "\\lambda=2\\\\\n",
    "\\lambda=2\n",
    "\\end{cases}.$\n",
    "\n",
    "Следовательно, вектор $x=(1,1)$ считается собственным вектором линейного оператора, заданного матрицей $A$.\n",
    "\n",
    "Собственными векторами являются также и все векторы вида\n",
    "$c_1e_1$, $с_2е_2$, где $c_1-c_2$ — произвольные действительные числа не равные $0$."
   ],
   "metadata": {
    "collapsed": false
   }
  },
  {
   "cell_type": "code",
   "execution_count": 43,
   "outputs": [
    {
     "data": {
      "text/plain": "array([2., 2.])"
     },
     "execution_count": 43,
     "metadata": {},
     "output_type": "execute_result"
    }
   ],
   "source": [
    "A = np.array([[1, 1], [-1, 3]])\n",
    "x = np.array([1, 1])\n",
    "L = A @ x\n",
    "np.divide(L, x)"
   ],
   "metadata": {
    "collapsed": false,
    "pycharm": {
     "name": "#%%\n"
    }
   }
  },
  {
   "cell_type": "code",
   "execution_count": 54,
   "outputs": [
    {
     "name": "stdout",
     "output_type": "stream",
     "text": [
      "Собственное значение: [2] \n",
      "Собственный вектор [1, 1]\n"
     ]
    }
   ],
   "source": [
    "As = sp.Matrix([[1, 1], [-1, 3]])\n",
    "Vs = [list(i[2][0]) for i in As.eigenvects()]\n",
    "\n",
    "print(\n",
    "    f\"Собственное значение: {list(As.eigenvals().keys())} \\nСобственный вектор {Vs[0]}\"\n",
    ")"
   ],
   "metadata": {
    "collapsed": false,
    "pycharm": {
     "name": "#%%\n"
    }
   }
  },
  {
   "cell_type": "markdown",
   "source": [
    "**4.** Пусть линейный оператор задан матрицей:\n",
    "\n",
    "$A=\\begin{pmatrix} 0 & 3 & 0\\\\ 3 & 0 & 0\\\\ 0 & 0 & 3 \\end{pmatrix}.$\n",
    "\n",
    "Установите, считается ли вектор $x=(3, -3, -4)$ собственным вектором этого линейного оператора.\n",
    "\n",
    "__Решение__\n",
    "\n",
    "$\\begin{pmatrix}\n",
    "0 & 3 & 0\\\\\n",
    "3 & 0 & 0\\\\\n",
    "0 & 0 & 3\n",
    "\\end{pmatrix}\n",
    "\\begin{pmatrix}\n",
    "3\\\\\n",
    "-3\\\\\n",
    "-4\n",
    "\\end{pmatrix}=\n",
    "\\lambda\n",
    "\\begin{pmatrix}\n",
    "3\\\\\n",
    "-3\\\\\n",
    "-4\n",
    "\\end{pmatrix}$\n",
    "\n",
    "Вычтем «лямбду» из всех чисел главной диагонали матрицы $A$ и составим её характеристическое уравнение:\n",
    "\n",
    "$\n",
    "\\left|\n",
    "\\begin{array}{ccc}\n",
    "0-\\lambda & 3 & 0\\\\\n",
    "3 & 0-\\lambda & 0\\\\\n",
    "0 & 0 & 3-\\lambda\n",
    "\\end{array}\n",
    "\\right| = 0\n",
    "$\n",
    "\n",
    "$\n",
    "\\Delta = 0 \\left|\n",
    "\\begin{array}{cc}\n",
    " 3 & 0 \\\\\n",
    " -\\lambda  & 0 \\\\\n",
    "\\end{array}\n",
    "\\right| +0 \\left|\n",
    "\\begin{array}{cc}\n",
    " -\\lambda  & 0 \\\\\n",
    " 3 & 0 \\\\\n",
    "\\end{array}\n",
    "\\right| +(-\\lambda +3) \\left|\n",
    "\\begin{array}{cc}\n",
    " -\\lambda  & 3 \\\\\n",
    " 3 & -\\lambda  \\\\\n",
    "\\end{array}\n",
    "\\right|\\text{= }(3-\\lambda ) \\left|\n",
    "\\begin{array}{cc}\n",
    " -\\lambda  & 3 \\\\\n",
    " 3 & -\\lambda  \\\\\n",
    "\\end{array}\n",
    "\\right|=(3-\\lambda ) (-\\lambda  (-\\lambda )-3\\cdot 3)=(-\\lambda +3) \\left(\\lambda ^2-9\\right)=\\fbox{$(3-\\lambda ) \\left(-9+\\lambda ^2\\right)$}=-(\\lambda -3)^2 (\\lambda +3)\n",
    "$\n",
    "\n",
    "$\\Rightarrow\n",
    "\\begin{cases}\n",
    "\\lambda=3\\\\\n",
    "\\lambda=-3\\\\\n",
    "\\end{cases}\n",
    "$\n",
    "\n",
    "Выясним, является ли вектор $x=(3, -3, -4)$ собственным вектором этого линейного оператора.\n",
    "\n",
    "$\\Rightarrow\n",
    "\\begin{cases}\n",
    "3\\lambda=-9\\\\\n",
    "-3\\lambda=9\\\\\n",
    "-4\\lambda=-12\n",
    "\\end{cases}\n",
    "$ $\\Rightarrow\n",
    "\\begin{cases}\n",
    "\\lambda=-3\\\\\n",
    "\\lambda=-3\\\\\n",
    "\\lambda=3\n",
    "\\end{cases}$\n",
    "\n",
    "Таким образом, вектор $x=(3, -3, -4)$ не является собственным вектором линейного оператора, заданного матрицей $A$\n"
   ],
   "metadata": {
    "collapsed": false
   }
  },
  {
   "cell_type": "code",
   "execution_count": 57,
   "outputs": [
    {
     "name": "stdout",
     "output_type": "stream",
     "text": [
      "Собственное значение: [-3, 3] \n",
      "Собственные векторы [[-1, 1, 0], [1, 1, 0]]\n"
     ]
    }
   ],
   "source": [
    "As = sp.Matrix([[0, 3, 0], [3, 0, 0], [0, 0, 3]])\n",
    "Vs = [list(i[2][0]) for i in As.eigenvects()]\n",
    "\n",
    "print(f\"Собственное значение: {list(As.eigenvals().keys())} \\nСобственные векторы {Vs}\")"
   ],
   "metadata": {
    "collapsed": false,
    "pycharm": {
     "name": "#%%\n"
    }
   }
  }
 ],
 "metadata": {
  "kernelspec": {
   "display_name": "Python 3",
   "language": "python",
   "name": "python3"
  },
  "language_info": {
   "codemirror_mode": {
    "name": "ipython",
    "version": 2
   },
   "file_extension": ".py",
   "mimetype": "text/x-python",
   "name": "python",
   "nbconvert_exporter": "python",
   "pygments_lexer": "ipython2",
   "version": "2.7.6"
  }
 },
 "nbformat": 4,
 "nbformat_minor": 0
}